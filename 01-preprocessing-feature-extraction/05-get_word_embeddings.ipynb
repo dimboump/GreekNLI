{
 "cells": [
  {
   "cell_type": "code",
   "execution_count": 1,
   "metadata": {},
   "outputs": [],
   "source": [
    "from __future__ import annotations\n",
    "\n",
    "import os\n",
    "\n",
    "import numpy as np\n",
    "import pandas as pd\n",
    "import matplotlib as mpl\n",
    "from matplotlib import pyplot as plt\n",
    "from IPython.display import display as ipy_display\n",
    "\n",
    "import openai\n",
    "from openai.embeddings_utils import get_embedding\n",
    "from transformers import GPT2TokenizerFast as GPT2Tokenizer"
   ]
  },
  {
   "cell_type": "code",
   "execution_count": 2,
   "metadata": {},
   "outputs": [],
   "source": [
    "openai.api_key_path = os.path.join(os.getcwd(), 'openai_api_key.txt')"
   ]
  },
  {
   "cell_type": "code",
   "execution_count": 3,
   "metadata": {},
   "outputs": [
    {
     "data": {
      "text/html": [
       "<div>\n",
       "<style scoped>\n",
       "    .dataframe tbody tr th:only-of-type {\n",
       "        vertical-align: middle;\n",
       "    }\n",
       "\n",
       "    .dataframe tbody tr th {\n",
       "        vertical-align: top;\n",
       "    }\n",
       "\n",
       "    .dataframe thead th {\n",
       "        text-align: right;\n",
       "    }\n",
       "</style>\n",
       "<table border=\"1\" class=\"dataframe\">\n",
       "  <thead>\n",
       "    <tr style=\"text-align: right;\">\n",
       "      <th></th>\n",
       "      <th>user_id</th>\n",
       "      <th>text</th>\n",
       "      <th>label</th>\n",
       "      <th>pos_tags</th>\n",
       "      <th>pos_fw</th>\n",
       "    </tr>\n",
       "  </thead>\n",
       "  <tbody>\n",
       "    <tr>\n",
       "      <th>5340</th>\n",
       "      <td>1bd1efed8c</td>\n",
       "      <td>Correct me if I 'm wrong , but the Ruble becom...</td>\n",
       "      <td>ENG</td>\n",
       "      <td>VERB PRON SCONJ PRON VERB VERB ADJ PUNCT CCONJ...</td>\n",
       "      <td>VERB me if I ' VERB ADJ , but the NOUN becomin...</td>\n",
       "    </tr>\n",
       "    <tr>\n",
       "      <th>7872</th>\n",
       "      <td>adb4d964f7</td>\n",
       "      <td>The problem is that people start blaming the E...</td>\n",
       "      <td>ENG</td>\n",
       "      <td>DET NOUN AUX SCONJ NOUN VERB VERB DET PROPN CC...</td>\n",
       "      <td>The NOUN is that NOUN VERB VERB the PROPN and ...</td>\n",
       "    </tr>\n",
       "    <tr>\n",
       "      <th>7876</th>\n",
       "      <td>add85fa525</td>\n",
       "      <td>Here 's a [ picture of me with my wife ] ( htt...</td>\n",
       "      <td>ENG</td>\n",
       "      <td>ADV AUX DET PUNCT NOUN ADP PRON ADP PRON NOUN ...</td>\n",
       "      <td>Here 's a [ NOUN of me with my NOUN ] ( X ) at...</td>\n",
       "    </tr>\n",
       "    <tr>\n",
       "      <th>6922</th>\n",
       "      <td>7dc6bab425</td>\n",
       "      <td>I would have voted for them in Newcastle if th...</td>\n",
       "      <td>ENG</td>\n",
       "      <td>PRON AUX AUX VERB ADP PRON ADP PROPN SCONJ PRO...</td>\n",
       "      <td>I would have VERB for them in PROPN if they 'd...</td>\n",
       "    </tr>\n",
       "    <tr>\n",
       "      <th>6989</th>\n",
       "      <td>85913df5f0</td>\n",
       "      <td>&gt; However , if it gets on the statute books , ...</td>\n",
       "      <td>ENG</td>\n",
       "      <td>PUNCT ADV PUNCT SCONJ PRON VERB ADP DET NOUN N...</td>\n",
       "      <td>PUNCT However , if it VERB on the NOUN NOUN , ...</td>\n",
       "    </tr>\n",
       "    <tr>\n",
       "      <th>6726</th>\n",
       "      <td>705cabfbc0</td>\n",
       "      <td>My ship had been `` sunk '' by a Chilean sub (...</td>\n",
       "      <td>ENG</td>\n",
       "      <td>PRON NOUN AUX AUX PUNCT PUNCT VERB PUNCT ADP D...</td>\n",
       "      <td>My NOUN had been PUNCT PUNCT VERB '' by a ADJ ...</td>\n",
       "    </tr>\n",
       "    <tr>\n",
       "      <th>698</th>\n",
       "      <td>2e7cccd3bf</td>\n",
       "      <td>&gt; ND on the other hand is filled with neoliber...</td>\n",
       "      <td>ELL</td>\n",
       "      <td>X PROPN ADP DET ADJ NOUN AUX VERB ADP NOUN PRO...</td>\n",
       "      <td>X PROPN on the other NOUN is VERB with NOUN I ...</td>\n",
       "    </tr>\n",
       "    <tr>\n",
       "      <th>4509</th>\n",
       "      <td>f49bfa5dc5</td>\n",
       "      <td>I do n't think Putin gives a shit to be honest...</td>\n",
       "      <td>ELL</td>\n",
       "      <td>PRON AUX PART VERB PROPN VERB DET NOUN PART AU...</td>\n",
       "      <td>I do n't VERB PROPN VERB a NOUN to be ADJ PROP...</td>\n",
       "    </tr>\n",
       "    <tr>\n",
       "      <th>2808</th>\n",
       "      <td>bbafa6ae93</td>\n",
       "      <td>What is going on is that you have n't read the...</td>\n",
       "      <td>ELL</td>\n",
       "      <td>PRON AUX VERB ADP AUX SCONJ PRON AUX PART VERB...</td>\n",
       "      <td>What is VERB on is that you have n't VERB the ...</td>\n",
       "    </tr>\n",
       "    <tr>\n",
       "      <th>2520</th>\n",
       "      <td>adafc71f5d</td>\n",
       "      <td>Greek government is accusing EU/IMF in stallin...</td>\n",
       "      <td>ELL</td>\n",
       "      <td>ADJ NOUN AUX VERB PROPN SYM PROPN ADP VERB NOU...</td>\n",
       "      <td>ADJ NOUN is VERB PROPN / PROPN in VERB NOUN du...</td>\n",
       "    </tr>\n",
       "  </tbody>\n",
       "</table>\n",
       "</div>"
      ],
      "text/plain": [
       "         user_id                                               text label  \\\n",
       "5340  1bd1efed8c  Correct me if I 'm wrong , but the Ruble becom...   ENG   \n",
       "7872  adb4d964f7  The problem is that people start blaming the E...   ENG   \n",
       "7876  add85fa525  Here 's a [ picture of me with my wife ] ( htt...   ENG   \n",
       "6922  7dc6bab425  I would have voted for them in Newcastle if th...   ENG   \n",
       "6989  85913df5f0  > However , if it gets on the statute books , ...   ENG   \n",
       "6726  705cabfbc0  My ship had been `` sunk '' by a Chilean sub (...   ENG   \n",
       "698   2e7cccd3bf  > ND on the other hand is filled with neoliber...   ELL   \n",
       "4509  f49bfa5dc5  I do n't think Putin gives a shit to be honest...   ELL   \n",
       "2808  bbafa6ae93  What is going on is that you have n't read the...   ELL   \n",
       "2520  adafc71f5d  Greek government is accusing EU/IMF in stallin...   ELL   \n",
       "\n",
       "                                               pos_tags  \\\n",
       "5340  VERB PRON SCONJ PRON VERB VERB ADJ PUNCT CCONJ...   \n",
       "7872  DET NOUN AUX SCONJ NOUN VERB VERB DET PROPN CC...   \n",
       "7876  ADV AUX DET PUNCT NOUN ADP PRON ADP PRON NOUN ...   \n",
       "6922  PRON AUX AUX VERB ADP PRON ADP PROPN SCONJ PRO...   \n",
       "6989  PUNCT ADV PUNCT SCONJ PRON VERB ADP DET NOUN N...   \n",
       "6726  PRON NOUN AUX AUX PUNCT PUNCT VERB PUNCT ADP D...   \n",
       "698   X PROPN ADP DET ADJ NOUN AUX VERB ADP NOUN PRO...   \n",
       "4509  PRON AUX PART VERB PROPN VERB DET NOUN PART AU...   \n",
       "2808  PRON AUX VERB ADP AUX SCONJ PRON AUX PART VERB...   \n",
       "2520  ADJ NOUN AUX VERB PROPN SYM PROPN ADP VERB NOU...   \n",
       "\n",
       "                                                 pos_fw  \n",
       "5340  VERB me if I ' VERB ADJ , but the NOUN becomin...  \n",
       "7872  The NOUN is that NOUN VERB VERB the PROPN and ...  \n",
       "7876  Here 's a [ NOUN of me with my NOUN ] ( X ) at...  \n",
       "6922  I would have VERB for them in PROPN if they 'd...  \n",
       "6989  PUNCT However , if it VERB on the NOUN NOUN , ...  \n",
       "6726  My NOUN had been PUNCT PUNCT VERB '' by a ADJ ...  \n",
       "698   X PROPN on the other NOUN is VERB with NOUN I ...  \n",
       "4509  I do n't VERB PROPN VERB a NOUN to be ADJ PROP...  \n",
       "2808  What is VERB on is that you have n't VERB the ...  \n",
       "2520  ADJ NOUN is VERB PROPN / PROPN in VERB NOUN du...  "
      ]
     },
     "metadata": {},
     "output_type": "display_data"
    }
   ],
   "source": [
    "tokenizer = GPT2Tokenizer.from_pretrained('gpt2')\n",
    "\n",
    "df = pd.read_csv('reddit_ell_eng_raw_pos.csv', encoding='utf-8')\n",
    "ipy_display(df.sample(10))"
   ]
  },
  {
   "cell_type": "code",
   "execution_count": 4,
   "metadata": {},
   "outputs": [
    {
     "name": "stderr",
     "output_type": "stream",
     "text": [
      "Token indices sequence length is longer than the specified maximum sequence length for this model (1439 > 1024). Running this sequence through the model will result in indexing errors\n"
     ]
    },
    {
     "name": "stdout",
     "output_type": "stream",
     "text": [
      "Before: 9924\n",
      "After: 9919\n",
      "\n",
      "ELL    4960\n",
      "ENG    4959\n",
      "Name: label, dtype: int64\n"
     ]
    }
   ],
   "source": [
    "df['n_tokens'] = df['text'].apply(lambda x: len(tokenizer.encode(x)))\n",
    "print(f\"Before: {df.shape[0]}\")\n",
    "\n",
    "df = df[df['n_tokens'] <= 1024]  # GPT-2 max length\n",
    "print(f\"After: {df.shape[0]}\", end=\"\\n\\n\")\n",
    "print(df['label'].value_counts())\n",
    "\n",
    "df['gpt2'] = df['text'].apply(lambda x: get_embedding(x, engine='text-embedding-ada-002'))\n",
    "df['gpt2_len'] = df['gpt2'].apply(lambda x: len(x))\n",
    "\n",
    "df.to_csv(f'reddit_ell_eng_raw_pos_none_embs.csv', index=False, encoding='utf-8')"
   ]
  }
 ],
 "metadata": {
  "kernelspec": {
   "display_name": "venv",
   "language": "python",
   "name": "python3"
  },
  "language_info": {
   "codemirror_mode": {
    "name": "ipython",
    "version": 3
   },
   "file_extension": ".py",
   "mimetype": "text/x-python",
   "name": "python",
   "nbconvert_exporter": "python",
   "pygments_lexer": "ipython3",
   "version": "3.9.12"
  },
  "orig_nbformat": 4,
  "vscode": {
   "interpreter": {
    "hash": "2e7e730b0addf86a973a4a28cf822ec2148c9b5df0949bdec448b2f92cd1b951"
   }
  }
 },
 "nbformat": 4,
 "nbformat_minor": 2
}
