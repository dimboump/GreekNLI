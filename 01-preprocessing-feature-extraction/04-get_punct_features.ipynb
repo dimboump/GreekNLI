{
 "cells": [
  {
   "cell_type": "code",
   "execution_count": 1,
   "metadata": {},
   "outputs": [],
   "source": [
    "from __future__ import annotations\n",
    "\n",
    "import os\n",
    "import string\n",
    "\n",
    "import numpy as np\n",
    "import pandas as pd\n",
    "import matplotlib as mpl\n",
    "from matplotlib import pyplot as plt\n",
    "from IPython.display import display\n",
    "from sklearn.model_selection import GroupShuffleSplit\n",
    "from sklearn.feature_extraction.text import TfidfVectorizer\n",
    "\n",
    "%config InlineBackend.figure_format = 'svg' "
   ]
  },
  {
   "cell_type": "code",
   "execution_count": 2,
   "metadata": {},
   "outputs": [],
   "source": [
    "RAW_DATA_FILENAME = 'reddit_ell_eng_raw_pos{}.csv'\n",
    "RAW_DATA_MAXLEN = ['none', '300', '200']"
   ]
  },
  {
   "cell_type": "code",
   "execution_count": 3,
   "metadata": {},
   "outputs": [],
   "source": [
    "def load_data(maxlen: str = 'none') -> pd.DataFrame:\n",
    "    \"\"\"Load the raw data from a csv file.\"\"\"\n",
    "    maxlen = f\"_{maxlen}\" if maxlen != \"none\" else \"\"\n",
    "    df = pd.read_csv(f'{RAW_DATA_FILENAME.format(maxlen)}')\n",
    "    return df\n",
    "\n",
    "\n",
    "def group_shuffle_split(\n",
    "    df: pd.DataFrame,\n",
    "    *,\n",
    "    groups: pd.Series,\n",
    "    n_splits: int = 10,\n",
    "    test_size: float = 0.2,\n",
    "    random_state: int = 42,\n",
    ") -> tuple[pd.DataFrame, pd.DataFrame]:\n",
    "    \"\"\"Perform a group shuffle split on a dataframe.\"\"\"\n",
    "    gss = GroupShuffleSplit(n_splits=n_splits, test_size=test_size, random_state=random_state)\n",
    "    train_idx, test_idx = next(gss.split(df, groups=groups))\n",
    "    train_df = df.iloc[train_idx]\n",
    "    test_df = df.iloc[test_idx]\n",
    "    return train_df, test_df\n",
    "\n",
    "\n",
    "def count_punct(text: str, relative: bool = False) -> dict:\n",
    "    \"\"\"Extract punctuation features from a dataframe and append them to the dataframe.\"\"\"\n",
    "    punct_counts = {punct: 0 for punct in string.punctuation}\n",
    "    for char in text:\n",
    "        if char in string.punctuation:\n",
    "            punct_counts[char] += 1\n",
    "    if relative:\n",
    "        total_count = sum(punct_counts.values())\n",
    "        for punct in punct_counts:\n",
    "            try:\n",
    "                punct_counts[punct] /= total_count\n",
    "            except ZeroDivisionError:\n",
    "                pass\n",
    "    return punct_counts\n",
    "\n",
    "\n",
    "def plot_tfidf_features(\n",
    "    df: pd.DataFrame, \n",
    "    *,\n",
    "    ngram_range: tuple[int, int] = (1, 1)\n",
    ") -> None:\n",
    "    \"\"\"Plot the TF-IDF features of a dataframe.\"\"\"\n",
    "    n_grams = f'{ngram_range[0]}-{ngram_range[1]}' \\\n",
    "              if ngram_range[0] != ngram_range[1] else ngram_range[0]\n",
    "    df = df.drop('label', axis=1)\n",
    "    df = df.sum().sort_values(ascending=False)\n",
    "    df = df.head(20)\n",
    "    df.plot.barh(zorder=3, color='C0')\n",
    "    plt.title(f'Top 20 {n_grams} n-grams')\n",
    "    plt.xlabel('TF-IDF')\n",
    "    plt.ylabel('N-gram')\n",
    "    plt.tight_layout()\n",
    "    plt.grid(alpha=0.5, zorder=0)\n",
    "\n",
    "    if not os.path.exists('figures'):\n",
    "        os.makedirs('figures')\n",
    "    plt.savefig(f'figures/tfidf_features_{n_grams}_punct.svg')\n",
    "\n",
    "    plt.show()"
   ]
  },
  {
   "cell_type": "code",
   "execution_count": 4,
   "metadata": {},
   "outputs": [
    {
     "name": "stdout",
     "output_type": "stream",
     "text": [
      "maxlen='none'\n",
      "Before: (9924, 37)\n",
      "After: (9924, 36)\n",
      "maxlen='300'\n",
      "Before: (9912, 37)\n",
      "After: (9912, 36)\n",
      "maxlen='200'\n",
      "Before: (9888, 37)\n",
      "After: (9888, 36)\n"
     ]
    }
   ],
   "source": [
    "for maxlen in RAW_DATA_MAXLEN:\n",
    "    df = load_data(maxlen)\n",
    "    print(f\"{maxlen=}\")\n",
    "    df['punct_rel'] = df['text'].apply(count_punct, relative=True)\n",
    "    df = pd.concat([df.drop(['punct_rel'], axis=1), df['punct_rel'].apply(pd.Series)], axis=1)\n",
    "    print(\"Before:\", df.shape)\n",
    "    # drop columns with all zeros\n",
    "    df = df.loc[:, (df != 0).any(axis=0)]\n",
    "    print(\"After:\", df.shape)\n",
    "    df.to_csv(f'reddit_ell_eng_raw_pos_punct_{maxlen}.csv', index=False, encoding='utf-8')"
   ]
  },
  {
   "cell_type": "code",
   "execution_count": 5,
   "metadata": {},
   "outputs": [],
   "source": [
    "train_df, test_df = group_shuffle_split(df, groups=df['user_id'])\n",
    "\n",
    "X = train_df['text']\n",
    "y = train_df['label']"
   ]
  },
  {
   "cell_type": "code",
   "execution_count": 6,
   "metadata": {},
   "outputs": [
    {
     "data": {
      "text/plain": [
       "9888"
      ]
     },
     "execution_count": 6,
     "metadata": {},
     "output_type": "execute_result"
    }
   ],
   "source": [
    "comb_df = pd.concat([train_df, test_df], axis=0)\n",
    "comb_df.shape[0]"
   ]
  },
  {
   "attachments": {},
   "cell_type": "markdown",
   "metadata": {},
   "source": [
    "## On the texts"
   ]
  },
  {
   "cell_type": "code",
   "execution_count": 7,
   "metadata": {},
   "outputs": [],
   "source": [
    "vect = TfidfVectorizer(analyzer='word', ngram_range=(1, 1), token_pattern=rf'\\b[{string.punctuation}]\\b', min_df=0.01)\n",
    "X = vect.fit_transform(comb_df['text'])"
   ]
  },
  {
   "cell_type": "code",
   "execution_count": 8,
   "metadata": {},
   "outputs": [
    {
     "data": {
      "text/plain": [
       "{'ELL': Int64Index([   0,    1,    2,    3,    4,    5,    6,    7,    8,    9,\n",
       "             ...\n",
       "             4930, 4931, 4932, 4933, 4934, 4935, 4936, 4937, 4938, 4939],\n",
       "            dtype='int64', length=4944),\n",
       " 'ENG': Int64Index([4944, 4945, 4946, 4947, 4948, 4949, 4950, 4951, 4952, 4953,\n",
       "             ...\n",
       "             9754, 9785, 9786, 9787, 9789, 9790, 9792, 9793, 9861, 9863],\n",
       "            dtype='int64', length=4944)}"
      ]
     },
     "execution_count": 8,
     "metadata": {},
     "output_type": "execute_result"
    }
   ],
   "source": [
    "dict(comb_df.groupby('label').groups.items())"
   ]
  },
  {
   "cell_type": "code",
   "execution_count": 9,
   "metadata": {},
   "outputs": [
    {
     "data": {
      "text/plain": [
       "(9888, 7)"
      ]
     },
     "execution_count": 9,
     "metadata": {},
     "output_type": "execute_result"
    }
   ],
   "source": [
    "X.shape"
   ]
  },
  {
   "cell_type": "code",
   "execution_count": 10,
   "metadata": {},
   "outputs": [
    {
     "data": {
      "image/svg+xml": "<?xml version=\"1.0\" encoding=\"utf-8\" standalone=\"no\"?>\n<!DOCTYPE svg PUBLIC \"-//W3C//DTD SVG 1.1//EN\"\n  \"http://www.w3.org/Graphics/SVG/1.1/DTD/svg11.dtd\">\n<svg xmlns:xlink=\"http://www.w3.org/1999/xlink\" width=\"417.648125pt\" height=\"310.86825pt\" viewBox=\"0 0 417.648125 310.86825\" xmlns=\"http://www.w3.org/2000/svg\" version=\"1.1\">\n <metadata>\n  <rdf:RDF xmlns:dc=\"http://purl.org/dc/elements/1.1/\" xmlns:cc=\"http://creativecommons.org/ns#\" xmlns:rdf=\"http://www.w3.org/1999/02/22-rdf-syntax-ns#\">\n   <cc:Work>\n    <dc:type rdf:resource=\"http://purl.org/dc/dcmitype/StillImage\"/>\n    <dc:date>2022-12-25T20:06:53.311858</dc:date>\n    <dc:format>image/svg+xml</dc:format>\n    <dc:creator>\n     <cc:Agent>\n      <dc:title>Matplotlib v3.6.2, https://matplotlib.org/</dc:title>\n     </cc:Agent>\n    </dc:creator>\n   </cc:Work>\n  </rdf:RDF>\n </metadata>\n <defs>\n  <style type=\"text/css\">*{stroke-linejoin: round; stroke-linecap: butt}</style>\n </defs>\n <g id=\"figure_1\">\n  <g id=\"patch_1\">\n   <path d=\"M 0 310.86825 \nL 417.648125 310.86825 \nL 417.648125 0 \nL 0 0 \nz\n\" style=\"fill: #ffffff\"/>\n  </g>\n  <g id=\"axes_1\">\n   <g id=\"patch_2\">\n    <path d=\"M 53.328125 273.312 \nL 410.448125 273.312 \nL 410.448125 7.2 \nL 53.328125 7.2 \nz\n\" style=\"fill: #ffffff\"/>\n   </g>\n   <g id=\"matplotlib.axis_1\">\n    <g id=\"xtick_1\">\n     <g id=\"line2d_1\">\n      <path d=\"M 112.530183 273.312 \nL 112.530183 7.2 \n\" clip-path=\"url(#p0ed3800adf)\" style=\"fill: none; stroke: #b0b0b0; stroke-opacity: 0.5; stroke-width: 0.8; stroke-linecap: square\"/>\n     </g>\n     <g id=\"line2d_2\">\n      <defs>\n       <path id=\"m51ece59607\" d=\"M 0 0 \nL 0 3.5 \n\" style=\"stroke: #000000; stroke-width: 0.8\"/>\n      </defs>\n      <g>\n       <use xlink:href=\"#m51ece59607\" x=\"112.530183\" y=\"273.312\" style=\"stroke: #000000; stroke-width: 0.8\"/>\n      </g>\n     </g>\n     <g id=\"text_1\">\n      <!-- 200 -->\n      <g transform=\"translate(102.986433 287.910437) scale(0.1 -0.1)\">\n       <defs>\n        <path id=\"DejaVuSans-32\" d=\"M 1228 531 \nL 3431 531 \nL 3431 0 \nL 469 0 \nL 469 531 \nQ 828 903 1448 1529 \nQ 2069 2156 2228 2338 \nQ 2531 2678 2651 2914 \nQ 2772 3150 2772 3378 \nQ 2772 3750 2511 3984 \nQ 2250 4219 1831 4219 \nQ 1534 4219 1204 4116 \nQ 875 4013 500 3803 \nL 500 4441 \nQ 881 4594 1212 4672 \nQ 1544 4750 1819 4750 \nQ 2544 4750 2975 4387 \nQ 3406 4025 3406 3419 \nQ 3406 3131 3298 2873 \nQ 3191 2616 2906 2266 \nQ 2828 2175 2409 1742 \nQ 1991 1309 1228 531 \nz\n\" transform=\"scale(0.015625)\"/>\n        <path id=\"DejaVuSans-30\" d=\"M 2034 4250 \nQ 1547 4250 1301 3770 \nQ 1056 3291 1056 2328 \nQ 1056 1369 1301 889 \nQ 1547 409 2034 409 \nQ 2525 409 2770 889 \nQ 3016 1369 3016 2328 \nQ 3016 3291 2770 3770 \nQ 2525 4250 2034 4250 \nz\nM 2034 4750 \nQ 2819 4750 3233 4129 \nQ 3647 3509 3647 2328 \nQ 3647 1150 3233 529 \nQ 2819 -91 2034 -91 \nQ 1250 -91 836 529 \nQ 422 1150 422 2328 \nQ 422 3509 836 4129 \nQ 1250 4750 2034 4750 \nz\n\" transform=\"scale(0.015625)\"/>\n       </defs>\n       <use xlink:href=\"#DejaVuSans-32\"/>\n       <use xlink:href=\"#DejaVuSans-30\" x=\"63.623047\"/>\n       <use xlink:href=\"#DejaVuSans-30\" x=\"127.246094\"/>\n      </g>\n     </g>\n    </g>\n    <g id=\"xtick_2\">\n     <g id=\"line2d_3\">\n      <path d=\"M 176.075714 273.312 \nL 176.075714 7.2 \n\" clip-path=\"url(#p0ed3800adf)\" style=\"fill: none; stroke: #b0b0b0; stroke-opacity: 0.5; stroke-width: 0.8; stroke-linecap: square\"/>\n     </g>\n     <g id=\"line2d_4\">\n      <g>\n       <use xlink:href=\"#m51ece59607\" x=\"176.075714\" y=\"273.312\" style=\"stroke: #000000; stroke-width: 0.8\"/>\n      </g>\n     </g>\n     <g id=\"text_2\">\n      <!-- 400 -->\n      <g transform=\"translate(166.531964 287.910437) scale(0.1 -0.1)\">\n       <defs>\n        <path id=\"DejaVuSans-34\" d=\"M 2419 4116 \nL 825 1625 \nL 2419 1625 \nL 2419 4116 \nz\nM 2253 4666 \nL 3047 4666 \nL 3047 1625 \nL 3713 1625 \nL 3713 1100 \nL 3047 1100 \nL 3047 0 \nL 2419 0 \nL 2419 1100 \nL 313 1100 \nL 313 1709 \nL 2253 4666 \nz\n\" transform=\"scale(0.015625)\"/>\n       </defs>\n       <use xlink:href=\"#DejaVuSans-34\"/>\n       <use xlink:href=\"#DejaVuSans-30\" x=\"63.623047\"/>\n       <use xlink:href=\"#DejaVuSans-30\" x=\"127.246094\"/>\n      </g>\n     </g>\n    </g>\n    <g id=\"xtick_3\">\n     <g id=\"line2d_5\">\n      <path d=\"M 239.621245 273.312 \nL 239.621245 7.2 \n\" clip-path=\"url(#p0ed3800adf)\" style=\"fill: none; stroke: #b0b0b0; stroke-opacity: 0.5; stroke-width: 0.8; stroke-linecap: square\"/>\n     </g>\n     <g id=\"line2d_6\">\n      <g>\n       <use xlink:href=\"#m51ece59607\" x=\"239.621245\" y=\"273.312\" style=\"stroke: #000000; stroke-width: 0.8\"/>\n      </g>\n     </g>\n     <g id=\"text_3\">\n      <!-- 600 -->\n      <g transform=\"translate(230.077495 287.910437) scale(0.1 -0.1)\">\n       <defs>\n        <path id=\"DejaVuSans-36\" d=\"M 2113 2584 \nQ 1688 2584 1439 2293 \nQ 1191 2003 1191 1497 \nQ 1191 994 1439 701 \nQ 1688 409 2113 409 \nQ 2538 409 2786 701 \nQ 3034 994 3034 1497 \nQ 3034 2003 2786 2293 \nQ 2538 2584 2113 2584 \nz\nM 3366 4563 \nL 3366 3988 \nQ 3128 4100 2886 4159 \nQ 2644 4219 2406 4219 \nQ 1781 4219 1451 3797 \nQ 1122 3375 1075 2522 \nQ 1259 2794 1537 2939 \nQ 1816 3084 2150 3084 \nQ 2853 3084 3261 2657 \nQ 3669 2231 3669 1497 \nQ 3669 778 3244 343 \nQ 2819 -91 2113 -91 \nQ 1303 -91 875 529 \nQ 447 1150 447 2328 \nQ 447 3434 972 4092 \nQ 1497 4750 2381 4750 \nQ 2619 4750 2861 4703 \nQ 3103 4656 3366 4563 \nz\n\" transform=\"scale(0.015625)\"/>\n       </defs>\n       <use xlink:href=\"#DejaVuSans-36\"/>\n       <use xlink:href=\"#DejaVuSans-30\" x=\"63.623047\"/>\n       <use xlink:href=\"#DejaVuSans-30\" x=\"127.246094\"/>\n      </g>\n     </g>\n    </g>\n    <g id=\"xtick_4\">\n     <g id=\"line2d_7\">\n      <path d=\"M 303.166776 273.312 \nL 303.166776 7.2 \n\" clip-path=\"url(#p0ed3800adf)\" style=\"fill: none; stroke: #b0b0b0; stroke-opacity: 0.5; stroke-width: 0.8; stroke-linecap: square\"/>\n     </g>\n     <g id=\"line2d_8\">\n      <g>\n       <use xlink:href=\"#m51ece59607\" x=\"303.166776\" y=\"273.312\" style=\"stroke: #000000; stroke-width: 0.8\"/>\n      </g>\n     </g>\n     <g id=\"text_4\">\n      <!-- 800 -->\n      <g transform=\"translate(293.623026 287.910437) scale(0.1 -0.1)\">\n       <defs>\n        <path id=\"DejaVuSans-38\" d=\"M 2034 2216 \nQ 1584 2216 1326 1975 \nQ 1069 1734 1069 1313 \nQ 1069 891 1326 650 \nQ 1584 409 2034 409 \nQ 2484 409 2743 651 \nQ 3003 894 3003 1313 \nQ 3003 1734 2745 1975 \nQ 2488 2216 2034 2216 \nz\nM 1403 2484 \nQ 997 2584 770 2862 \nQ 544 3141 544 3541 \nQ 544 4100 942 4425 \nQ 1341 4750 2034 4750 \nQ 2731 4750 3128 4425 \nQ 3525 4100 3525 3541 \nQ 3525 3141 3298 2862 \nQ 3072 2584 2669 2484 \nQ 3125 2378 3379 2068 \nQ 3634 1759 3634 1313 \nQ 3634 634 3220 271 \nQ 2806 -91 2034 -91 \nQ 1263 -91 848 271 \nQ 434 634 434 1313 \nQ 434 1759 690 2068 \nQ 947 2378 1403 2484 \nz\nM 1172 3481 \nQ 1172 3119 1398 2916 \nQ 1625 2713 2034 2713 \nQ 2441 2713 2670 2916 \nQ 2900 3119 2900 3481 \nQ 2900 3844 2670 4047 \nQ 2441 4250 2034 4250 \nQ 1625 4250 1398 4047 \nQ 1172 3844 1172 3481 \nz\n\" transform=\"scale(0.015625)\"/>\n       </defs>\n       <use xlink:href=\"#DejaVuSans-38\"/>\n       <use xlink:href=\"#DejaVuSans-30\" x=\"63.623047\"/>\n       <use xlink:href=\"#DejaVuSans-30\" x=\"127.246094\"/>\n      </g>\n     </g>\n    </g>\n    <g id=\"xtick_5\">\n     <g id=\"line2d_9\">\n      <path d=\"M 366.712307 273.312 \nL 366.712307 7.2 \n\" clip-path=\"url(#p0ed3800adf)\" style=\"fill: none; stroke: #b0b0b0; stroke-opacity: 0.5; stroke-width: 0.8; stroke-linecap: square\"/>\n     </g>\n     <g id=\"line2d_10\">\n      <g>\n       <use xlink:href=\"#m51ece59607\" x=\"366.712307\" y=\"273.312\" style=\"stroke: #000000; stroke-width: 0.8\"/>\n      </g>\n     </g>\n     <g id=\"text_5\">\n      <!-- 1000 -->\n      <g transform=\"translate(353.987307 287.910437) scale(0.1 -0.1)\">\n       <defs>\n        <path id=\"DejaVuSans-31\" d=\"M 794 531 \nL 1825 531 \nL 1825 4091 \nL 703 3866 \nL 703 4441 \nL 1819 4666 \nL 2450 4666 \nL 2450 531 \nL 3481 531 \nL 3481 0 \nL 794 0 \nL 794 531 \nz\n\" transform=\"scale(0.015625)\"/>\n       </defs>\n       <use xlink:href=\"#DejaVuSans-31\"/>\n       <use xlink:href=\"#DejaVuSans-30\" x=\"63.623047\"/>\n       <use xlink:href=\"#DejaVuSans-30\" x=\"127.246094\"/>\n       <use xlink:href=\"#DejaVuSans-30\" x=\"190.869141\"/>\n      </g>\n     </g>\n    </g>\n    <g id=\"text_6\">\n     <!-- Punct usage frequency (Greek L1) -->\n     <g transform=\"translate(146.658438 301.588562) scale(0.1 -0.1)\">\n      <defs>\n       <path id=\"DejaVuSans-50\" d=\"M 1259 4147 \nL 1259 2394 \nL 2053 2394 \nQ 2494 2394 2734 2622 \nQ 2975 2850 2975 3272 \nQ 2975 3691 2734 3919 \nQ 2494 4147 2053 4147 \nL 1259 4147 \nz\nM 628 4666 \nL 2053 4666 \nQ 2838 4666 3239 4311 \nQ 3641 3956 3641 3272 \nQ 3641 2581 3239 2228 \nQ 2838 1875 2053 1875 \nL 1259 1875 \nL 1259 0 \nL 628 0 \nL 628 4666 \nz\n\" transform=\"scale(0.015625)\"/>\n       <path id=\"DejaVuSans-75\" d=\"M 544 1381 \nL 544 3500 \nL 1119 3500 \nL 1119 1403 \nQ 1119 906 1312 657 \nQ 1506 409 1894 409 \nQ 2359 409 2629 706 \nQ 2900 1003 2900 1516 \nL 2900 3500 \nL 3475 3500 \nL 3475 0 \nL 2900 0 \nL 2900 538 \nQ 2691 219 2414 64 \nQ 2138 -91 1772 -91 \nQ 1169 -91 856 284 \nQ 544 659 544 1381 \nz\nM 1991 3584 \nL 1991 3584 \nz\n\" transform=\"scale(0.015625)\"/>\n       <path id=\"DejaVuSans-6e\" d=\"M 3513 2113 \nL 3513 0 \nL 2938 0 \nL 2938 2094 \nQ 2938 2591 2744 2837 \nQ 2550 3084 2163 3084 \nQ 1697 3084 1428 2787 \nQ 1159 2491 1159 1978 \nL 1159 0 \nL 581 0 \nL 581 3500 \nL 1159 3500 \nL 1159 2956 \nQ 1366 3272 1645 3428 \nQ 1925 3584 2291 3584 \nQ 2894 3584 3203 3211 \nQ 3513 2838 3513 2113 \nz\n\" transform=\"scale(0.015625)\"/>\n       <path id=\"DejaVuSans-63\" d=\"M 3122 3366 \nL 3122 2828 \nQ 2878 2963 2633 3030 \nQ 2388 3097 2138 3097 \nQ 1578 3097 1268 2742 \nQ 959 2388 959 1747 \nQ 959 1106 1268 751 \nQ 1578 397 2138 397 \nQ 2388 397 2633 464 \nQ 2878 531 3122 666 \nL 3122 134 \nQ 2881 22 2623 -34 \nQ 2366 -91 2075 -91 \nQ 1284 -91 818 406 \nQ 353 903 353 1747 \nQ 353 2603 823 3093 \nQ 1294 3584 2113 3584 \nQ 2378 3584 2631 3529 \nQ 2884 3475 3122 3366 \nz\n\" transform=\"scale(0.015625)\"/>\n       <path id=\"DejaVuSans-74\" d=\"M 1172 4494 \nL 1172 3500 \nL 2356 3500 \nL 2356 3053 \nL 1172 3053 \nL 1172 1153 \nQ 1172 725 1289 603 \nQ 1406 481 1766 481 \nL 2356 481 \nL 2356 0 \nL 1766 0 \nQ 1100 0 847 248 \nQ 594 497 594 1153 \nL 594 3053 \nL 172 3053 \nL 172 3500 \nL 594 3500 \nL 594 4494 \nL 1172 4494 \nz\n\" transform=\"scale(0.015625)\"/>\n       <path id=\"DejaVuSans-20\" transform=\"scale(0.015625)\"/>\n       <path id=\"DejaVuSans-73\" d=\"M 2834 3397 \nL 2834 2853 \nQ 2591 2978 2328 3040 \nQ 2066 3103 1784 3103 \nQ 1356 3103 1142 2972 \nQ 928 2841 928 2578 \nQ 928 2378 1081 2264 \nQ 1234 2150 1697 2047 \nL 1894 2003 \nQ 2506 1872 2764 1633 \nQ 3022 1394 3022 966 \nQ 3022 478 2636 193 \nQ 2250 -91 1575 -91 \nQ 1294 -91 989 -36 \nQ 684 19 347 128 \nL 347 722 \nQ 666 556 975 473 \nQ 1284 391 1588 391 \nQ 1994 391 2212 530 \nQ 2431 669 2431 922 \nQ 2431 1156 2273 1281 \nQ 2116 1406 1581 1522 \nL 1381 1569 \nQ 847 1681 609 1914 \nQ 372 2147 372 2553 \nQ 372 3047 722 3315 \nQ 1072 3584 1716 3584 \nQ 2034 3584 2315 3537 \nQ 2597 3491 2834 3397 \nz\n\" transform=\"scale(0.015625)\"/>\n       <path id=\"DejaVuSans-61\" d=\"M 2194 1759 \nQ 1497 1759 1228 1600 \nQ 959 1441 959 1056 \nQ 959 750 1161 570 \nQ 1363 391 1709 391 \nQ 2188 391 2477 730 \nQ 2766 1069 2766 1631 \nL 2766 1759 \nL 2194 1759 \nz\nM 3341 1997 \nL 3341 0 \nL 2766 0 \nL 2766 531 \nQ 2569 213 2275 61 \nQ 1981 -91 1556 -91 \nQ 1019 -91 701 211 \nQ 384 513 384 1019 \nQ 384 1609 779 1909 \nQ 1175 2209 1959 2209 \nL 2766 2209 \nL 2766 2266 \nQ 2766 2663 2505 2880 \nQ 2244 3097 1772 3097 \nQ 1472 3097 1187 3025 \nQ 903 2953 641 2809 \nL 641 3341 \nQ 956 3463 1253 3523 \nQ 1550 3584 1831 3584 \nQ 2591 3584 2966 3190 \nQ 3341 2797 3341 1997 \nz\n\" transform=\"scale(0.015625)\"/>\n       <path id=\"DejaVuSans-67\" d=\"M 2906 1791 \nQ 2906 2416 2648 2759 \nQ 2391 3103 1925 3103 \nQ 1463 3103 1205 2759 \nQ 947 2416 947 1791 \nQ 947 1169 1205 825 \nQ 1463 481 1925 481 \nQ 2391 481 2648 825 \nQ 2906 1169 2906 1791 \nz\nM 3481 434 \nQ 3481 -459 3084 -895 \nQ 2688 -1331 1869 -1331 \nQ 1566 -1331 1297 -1286 \nQ 1028 -1241 775 -1147 \nL 775 -588 \nQ 1028 -725 1275 -790 \nQ 1522 -856 1778 -856 \nQ 2344 -856 2625 -561 \nQ 2906 -266 2906 331 \nL 2906 616 \nQ 2728 306 2450 153 \nQ 2172 0 1784 0 \nQ 1141 0 747 490 \nQ 353 981 353 1791 \nQ 353 2603 747 3093 \nQ 1141 3584 1784 3584 \nQ 2172 3584 2450 3431 \nQ 2728 3278 2906 2969 \nL 2906 3500 \nL 3481 3500 \nL 3481 434 \nz\n\" transform=\"scale(0.015625)\"/>\n       <path id=\"DejaVuSans-65\" d=\"M 3597 1894 \nL 3597 1613 \nL 953 1613 \nQ 991 1019 1311 708 \nQ 1631 397 2203 397 \nQ 2534 397 2845 478 \nQ 3156 559 3463 722 \nL 3463 178 \nQ 3153 47 2828 -22 \nQ 2503 -91 2169 -91 \nQ 1331 -91 842 396 \nQ 353 884 353 1716 \nQ 353 2575 817 3079 \nQ 1281 3584 2069 3584 \nQ 2775 3584 3186 3129 \nQ 3597 2675 3597 1894 \nz\nM 3022 2063 \nQ 3016 2534 2758 2815 \nQ 2500 3097 2075 3097 \nQ 1594 3097 1305 2825 \nQ 1016 2553 972 2059 \nL 3022 2063 \nz\n\" transform=\"scale(0.015625)\"/>\n       <path id=\"DejaVuSans-66\" d=\"M 2375 4863 \nL 2375 4384 \nL 1825 4384 \nQ 1516 4384 1395 4259 \nQ 1275 4134 1275 3809 \nL 1275 3500 \nL 2222 3500 \nL 2222 3053 \nL 1275 3053 \nL 1275 0 \nL 697 0 \nL 697 3053 \nL 147 3053 \nL 147 3500 \nL 697 3500 \nL 697 3744 \nQ 697 4328 969 4595 \nQ 1241 4863 1831 4863 \nL 2375 4863 \nz\n\" transform=\"scale(0.015625)\"/>\n       <path id=\"DejaVuSans-72\" d=\"M 2631 2963 \nQ 2534 3019 2420 3045 \nQ 2306 3072 2169 3072 \nQ 1681 3072 1420 2755 \nQ 1159 2438 1159 1844 \nL 1159 0 \nL 581 0 \nL 581 3500 \nL 1159 3500 \nL 1159 2956 \nQ 1341 3275 1631 3429 \nQ 1922 3584 2338 3584 \nQ 2397 3584 2469 3576 \nQ 2541 3569 2628 3553 \nL 2631 2963 \nz\n\" transform=\"scale(0.015625)\"/>\n       <path id=\"DejaVuSans-71\" d=\"M 947 1747 \nQ 947 1113 1208 752 \nQ 1469 391 1925 391 \nQ 2381 391 2643 752 \nQ 2906 1113 2906 1747 \nQ 2906 2381 2643 2742 \nQ 2381 3103 1925 3103 \nQ 1469 3103 1208 2742 \nQ 947 2381 947 1747 \nz\nM 2906 525 \nQ 2725 213 2448 61 \nQ 2172 -91 1784 -91 \nQ 1150 -91 751 415 \nQ 353 922 353 1747 \nQ 353 2572 751 3078 \nQ 1150 3584 1784 3584 \nQ 2172 3584 2448 3432 \nQ 2725 3281 2906 2969 \nL 2906 3500 \nL 3481 3500 \nL 3481 -1331 \nL 2906 -1331 \nL 2906 525 \nz\n\" transform=\"scale(0.015625)\"/>\n       <path id=\"DejaVuSans-79\" d=\"M 2059 -325 \nQ 1816 -950 1584 -1140 \nQ 1353 -1331 966 -1331 \nL 506 -1331 \nL 506 -850 \nL 844 -850 \nQ 1081 -850 1212 -737 \nQ 1344 -625 1503 -206 \nL 1606 56 \nL 191 3500 \nL 800 3500 \nL 1894 763 \nL 2988 3500 \nL 3597 3500 \nL 2059 -325 \nz\n\" transform=\"scale(0.015625)\"/>\n       <path id=\"DejaVuSans-28\" d=\"M 1984 4856 \nQ 1566 4138 1362 3434 \nQ 1159 2731 1159 2009 \nQ 1159 1288 1364 580 \nQ 1569 -128 1984 -844 \nL 1484 -844 \nQ 1016 -109 783 600 \nQ 550 1309 550 2009 \nQ 550 2706 781 3412 \nQ 1013 4119 1484 4856 \nL 1984 4856 \nz\n\" transform=\"scale(0.015625)\"/>\n       <path id=\"DejaVuSans-47\" d=\"M 3809 666 \nL 3809 1919 \nL 2778 1919 \nL 2778 2438 \nL 4434 2438 \nL 4434 434 \nQ 4069 175 3628 42 \nQ 3188 -91 2688 -91 \nQ 1594 -91 976 548 \nQ 359 1188 359 2328 \nQ 359 3472 976 4111 \nQ 1594 4750 2688 4750 \nQ 3144 4750 3555 4637 \nQ 3966 4525 4313 4306 \nL 4313 3634 \nQ 3963 3931 3569 4081 \nQ 3175 4231 2741 4231 \nQ 1884 4231 1454 3753 \nQ 1025 3275 1025 2328 \nQ 1025 1384 1454 906 \nQ 1884 428 2741 428 \nQ 3075 428 3337 486 \nQ 3600 544 3809 666 \nz\n\" transform=\"scale(0.015625)\"/>\n       <path id=\"DejaVuSans-6b\" d=\"M 581 4863 \nL 1159 4863 \nL 1159 1991 \nL 2875 3500 \nL 3609 3500 \nL 1753 1863 \nL 3688 0 \nL 2938 0 \nL 1159 1709 \nL 1159 0 \nL 581 0 \nL 581 4863 \nz\n\" transform=\"scale(0.015625)\"/>\n       <path id=\"DejaVuSans-4c\" d=\"M 628 4666 \nL 1259 4666 \nL 1259 531 \nL 3531 531 \nL 3531 0 \nL 628 0 \nL 628 4666 \nz\n\" transform=\"scale(0.015625)\"/>\n       <path id=\"DejaVuSans-29\" d=\"M 513 4856 \nL 1013 4856 \nQ 1481 4119 1714 3412 \nQ 1947 2706 1947 2009 \nQ 1947 1309 1714 600 \nQ 1481 -109 1013 -844 \nL 513 -844 \nQ 928 -128 1133 580 \nQ 1338 1288 1338 2009 \nQ 1338 2731 1133 3434 \nQ 928 4138 513 4856 \nz\n\" transform=\"scale(0.015625)\"/>\n      </defs>\n      <use xlink:href=\"#DejaVuSans-50\"/>\n      <use xlink:href=\"#DejaVuSans-75\" x=\"58.552734\"/>\n      <use xlink:href=\"#DejaVuSans-6e\" x=\"121.931641\"/>\n      <use xlink:href=\"#DejaVuSans-63\" x=\"185.310547\"/>\n      <use xlink:href=\"#DejaVuSans-74\" x=\"240.291016\"/>\n      <use xlink:href=\"#DejaVuSans-20\" x=\"279.5\"/>\n      <use xlink:href=\"#DejaVuSans-75\" x=\"311.287109\"/>\n      <use xlink:href=\"#DejaVuSans-73\" x=\"374.666016\"/>\n      <use xlink:href=\"#DejaVuSans-61\" x=\"426.765625\"/>\n      <use xlink:href=\"#DejaVuSans-67\" x=\"488.044922\"/>\n      <use xlink:href=\"#DejaVuSans-65\" x=\"551.521484\"/>\n      <use xlink:href=\"#DejaVuSans-20\" x=\"613.044922\"/>\n      <use xlink:href=\"#DejaVuSans-66\" x=\"644.832031\"/>\n      <use xlink:href=\"#DejaVuSans-72\" x=\"680.037109\"/>\n      <use xlink:href=\"#DejaVuSans-65\" x=\"718.900391\"/>\n      <use xlink:href=\"#DejaVuSans-71\" x=\"780.423828\"/>\n      <use xlink:href=\"#DejaVuSans-75\" x=\"843.900391\"/>\n      <use xlink:href=\"#DejaVuSans-65\" x=\"907.279297\"/>\n      <use xlink:href=\"#DejaVuSans-6e\" x=\"968.802734\"/>\n      <use xlink:href=\"#DejaVuSans-63\" x=\"1032.181641\"/>\n      <use xlink:href=\"#DejaVuSans-79\" x=\"1087.162109\"/>\n      <use xlink:href=\"#DejaVuSans-20\" x=\"1146.341797\"/>\n      <use xlink:href=\"#DejaVuSans-28\" x=\"1178.128906\"/>\n      <use xlink:href=\"#DejaVuSans-47\" x=\"1217.142578\"/>\n      <use xlink:href=\"#DejaVuSans-72\" x=\"1294.632812\"/>\n      <use xlink:href=\"#DejaVuSans-65\" x=\"1333.496094\"/>\n      <use xlink:href=\"#DejaVuSans-65\" x=\"1395.019531\"/>\n      <use xlink:href=\"#DejaVuSans-6b\" x=\"1456.542969\"/>\n      <use xlink:href=\"#DejaVuSans-20\" x=\"1514.453125\"/>\n      <use xlink:href=\"#DejaVuSans-4c\" x=\"1546.240234\"/>\n      <use xlink:href=\"#DejaVuSans-31\" x=\"1601.953125\"/>\n      <use xlink:href=\"#DejaVuSans-29\" x=\"1665.576172\"/>\n     </g>\n    </g>\n   </g>\n   <g id=\"matplotlib.axis_2\">\n    <g id=\"ytick_1\">\n     <g id=\"line2d_11\">\n      <path d=\"M 53.328125 262.252041 \nL 410.448125 262.252041 \n\" clip-path=\"url(#p0ed3800adf)\" style=\"fill: none; stroke: #b0b0b0; stroke-opacity: 0.5; stroke-width: 0.8; stroke-linecap: square\"/>\n     </g>\n     <g id=\"line2d_12\">\n      <defs>\n       <path id=\"m5978b38a56\" d=\"M 0 0 \nL -3.5 0 \n\" style=\"stroke: #000000; stroke-width: 0.8\"/>\n      </defs>\n      <g>\n       <use xlink:href=\"#m5978b38a56\" x=\"53.328125\" y=\"262.252041\" style=\"stroke: #000000; stroke-width: 0.8\"/>\n      </g>\n     </g>\n     <g id=\"text_7\">\n      <!-- 0 -->\n      <g transform=\"translate(39.965625 266.05126) scale(0.1 -0.1)\">\n       <use xlink:href=\"#DejaVuSans-30\"/>\n      </g>\n     </g>\n    </g>\n    <g id=\"ytick_2\">\n     <g id=\"line2d_13\">\n      <path d=\"M 53.328125 222.281128 \nL 410.448125 222.281128 \n\" clip-path=\"url(#p0ed3800adf)\" style=\"fill: none; stroke: #b0b0b0; stroke-opacity: 0.5; stroke-width: 0.8; stroke-linecap: square\"/>\n     </g>\n     <g id=\"line2d_14\">\n      <g>\n       <use xlink:href=\"#m5978b38a56\" x=\"53.328125\" y=\"222.281128\" style=\"stroke: #000000; stroke-width: 0.8\"/>\n      </g>\n     </g>\n     <g id=\"text_8\">\n      <!-- 200 -->\n      <g transform=\"translate(27.240625 226.080347) scale(0.1 -0.1)\">\n       <use xlink:href=\"#DejaVuSans-32\"/>\n       <use xlink:href=\"#DejaVuSans-30\" x=\"63.623047\"/>\n       <use xlink:href=\"#DejaVuSans-30\" x=\"127.246094\"/>\n      </g>\n     </g>\n    </g>\n    <g id=\"ytick_3\">\n     <g id=\"line2d_15\">\n      <path d=\"M 53.328125 182.310215 \nL 410.448125 182.310215 \n\" clip-path=\"url(#p0ed3800adf)\" style=\"fill: none; stroke: #b0b0b0; stroke-opacity: 0.5; stroke-width: 0.8; stroke-linecap: square\"/>\n     </g>\n     <g id=\"line2d_16\">\n      <g>\n       <use xlink:href=\"#m5978b38a56\" x=\"53.328125\" y=\"182.310215\" style=\"stroke: #000000; stroke-width: 0.8\"/>\n      </g>\n     </g>\n     <g id=\"text_9\">\n      <!-- 400 -->\n      <g transform=\"translate(27.240625 186.109434) scale(0.1 -0.1)\">\n       <use xlink:href=\"#DejaVuSans-34\"/>\n       <use xlink:href=\"#DejaVuSans-30\" x=\"63.623047\"/>\n       <use xlink:href=\"#DejaVuSans-30\" x=\"127.246094\"/>\n      </g>\n     </g>\n    </g>\n    <g id=\"ytick_4\">\n     <g id=\"line2d_17\">\n      <path d=\"M 53.328125 142.339302 \nL 410.448125 142.339302 \n\" clip-path=\"url(#p0ed3800adf)\" style=\"fill: none; stroke: #b0b0b0; stroke-opacity: 0.5; stroke-width: 0.8; stroke-linecap: square\"/>\n     </g>\n     <g id=\"line2d_18\">\n      <g>\n       <use xlink:href=\"#m5978b38a56\" x=\"53.328125\" y=\"142.339302\" style=\"stroke: #000000; stroke-width: 0.8\"/>\n      </g>\n     </g>\n     <g id=\"text_10\">\n      <!-- 600 -->\n      <g transform=\"translate(27.240625 146.138521) scale(0.1 -0.1)\">\n       <use xlink:href=\"#DejaVuSans-36\"/>\n       <use xlink:href=\"#DejaVuSans-30\" x=\"63.623047\"/>\n       <use xlink:href=\"#DejaVuSans-30\" x=\"127.246094\"/>\n      </g>\n     </g>\n    </g>\n    <g id=\"ytick_5\">\n     <g id=\"line2d_19\">\n      <path d=\"M 53.328125 102.368389 \nL 410.448125 102.368389 \n\" clip-path=\"url(#p0ed3800adf)\" style=\"fill: none; stroke: #b0b0b0; stroke-opacity: 0.5; stroke-width: 0.8; stroke-linecap: square\"/>\n     </g>\n     <g id=\"line2d_20\">\n      <g>\n       <use xlink:href=\"#m5978b38a56\" x=\"53.328125\" y=\"102.368389\" style=\"stroke: #000000; stroke-width: 0.8\"/>\n      </g>\n     </g>\n     <g id=\"text_11\">\n      <!-- 800 -->\n      <g transform=\"translate(27.240625 106.167608) scale(0.1 -0.1)\">\n       <use xlink:href=\"#DejaVuSans-38\"/>\n       <use xlink:href=\"#DejaVuSans-30\" x=\"63.623047\"/>\n       <use xlink:href=\"#DejaVuSans-30\" x=\"127.246094\"/>\n      </g>\n     </g>\n    </g>\n    <g id=\"ytick_6\">\n     <g id=\"line2d_21\">\n      <path d=\"M 53.328125 62.397476 \nL 410.448125 62.397476 \n\" clip-path=\"url(#p0ed3800adf)\" style=\"fill: none; stroke: #b0b0b0; stroke-opacity: 0.5; stroke-width: 0.8; stroke-linecap: square\"/>\n     </g>\n     <g id=\"line2d_22\">\n      <g>\n       <use xlink:href=\"#m5978b38a56\" x=\"53.328125\" y=\"62.397476\" style=\"stroke: #000000; stroke-width: 0.8\"/>\n      </g>\n     </g>\n     <g id=\"text_12\">\n      <!-- 1000 -->\n      <g transform=\"translate(20.878125 66.196695) scale(0.1 -0.1)\">\n       <use xlink:href=\"#DejaVuSans-31\"/>\n       <use xlink:href=\"#DejaVuSans-30\" x=\"63.623047\"/>\n       <use xlink:href=\"#DejaVuSans-30\" x=\"127.246094\"/>\n       <use xlink:href=\"#DejaVuSans-30\" x=\"190.869141\"/>\n      </g>\n     </g>\n    </g>\n    <g id=\"ytick_7\">\n     <g id=\"line2d_23\">\n      <path d=\"M 53.328125 22.426563 \nL 410.448125 22.426563 \n\" clip-path=\"url(#p0ed3800adf)\" style=\"fill: none; stroke: #b0b0b0; stroke-opacity: 0.5; stroke-width: 0.8; stroke-linecap: square\"/>\n     </g>\n     <g id=\"line2d_24\">\n      <g>\n       <use xlink:href=\"#m5978b38a56\" x=\"53.328125\" y=\"22.426563\" style=\"stroke: #000000; stroke-width: 0.8\"/>\n      </g>\n     </g>\n     <g id=\"text_13\">\n      <!-- 1200 -->\n      <g transform=\"translate(20.878125 26.225782) scale(0.1 -0.1)\">\n       <use xlink:href=\"#DejaVuSans-31\"/>\n       <use xlink:href=\"#DejaVuSans-32\" x=\"63.623047\"/>\n       <use xlink:href=\"#DejaVuSans-30\" x=\"127.246094\"/>\n       <use xlink:href=\"#DejaVuSans-30\" x=\"190.869141\"/>\n      </g>\n     </g>\n    </g>\n    <g id=\"text_14\">\n     <!-- Punct usage frequency (English L1) -->\n     <g transform=\"translate(14.798438 228.673969) rotate(-90) scale(0.1 -0.1)\">\n      <defs>\n       <path id=\"DejaVuSans-45\" d=\"M 628 4666 \nL 3578 4666 \nL 3578 4134 \nL 1259 4134 \nL 1259 2753 \nL 3481 2753 \nL 3481 2222 \nL 1259 2222 \nL 1259 531 \nL 3634 531 \nL 3634 0 \nL 628 0 \nL 628 4666 \nz\n\" transform=\"scale(0.015625)\"/>\n       <path id=\"DejaVuSans-6c\" d=\"M 603 4863 \nL 1178 4863 \nL 1178 0 \nL 603 0 \nL 603 4863 \nz\n\" transform=\"scale(0.015625)\"/>\n       <path id=\"DejaVuSans-69\" d=\"M 603 3500 \nL 1178 3500 \nL 1178 0 \nL 603 0 \nL 603 3500 \nz\nM 603 4863 \nL 1178 4863 \nL 1178 4134 \nL 603 4134 \nL 603 4863 \nz\n\" transform=\"scale(0.015625)\"/>\n       <path id=\"DejaVuSans-68\" d=\"M 3513 2113 \nL 3513 0 \nL 2938 0 \nL 2938 2094 \nQ 2938 2591 2744 2837 \nQ 2550 3084 2163 3084 \nQ 1697 3084 1428 2787 \nQ 1159 2491 1159 1978 \nL 1159 0 \nL 581 0 \nL 581 4863 \nL 1159 4863 \nL 1159 2956 \nQ 1366 3272 1645 3428 \nQ 1925 3584 2291 3584 \nQ 2894 3584 3203 3211 \nQ 3513 2838 3513 2113 \nz\n\" transform=\"scale(0.015625)\"/>\n      </defs>\n      <use xlink:href=\"#DejaVuSans-50\"/>\n      <use xlink:href=\"#DejaVuSans-75\" x=\"58.552734\"/>\n      <use xlink:href=\"#DejaVuSans-6e\" x=\"121.931641\"/>\n      <use xlink:href=\"#DejaVuSans-63\" x=\"185.310547\"/>\n      <use xlink:href=\"#DejaVuSans-74\" x=\"240.291016\"/>\n      <use xlink:href=\"#DejaVuSans-20\" x=\"279.5\"/>\n      <use xlink:href=\"#DejaVuSans-75\" x=\"311.287109\"/>\n      <use xlink:href=\"#DejaVuSans-73\" x=\"374.666016\"/>\n      <use xlink:href=\"#DejaVuSans-61\" x=\"426.765625\"/>\n      <use xlink:href=\"#DejaVuSans-67\" x=\"488.044922\"/>\n      <use xlink:href=\"#DejaVuSans-65\" x=\"551.521484\"/>\n      <use xlink:href=\"#DejaVuSans-20\" x=\"613.044922\"/>\n      <use xlink:href=\"#DejaVuSans-66\" x=\"644.832031\"/>\n      <use xlink:href=\"#DejaVuSans-72\" x=\"680.037109\"/>\n      <use xlink:href=\"#DejaVuSans-65\" x=\"718.900391\"/>\n      <use xlink:href=\"#DejaVuSans-71\" x=\"780.423828\"/>\n      <use xlink:href=\"#DejaVuSans-75\" x=\"843.900391\"/>\n      <use xlink:href=\"#DejaVuSans-65\" x=\"907.279297\"/>\n      <use xlink:href=\"#DejaVuSans-6e\" x=\"968.802734\"/>\n      <use xlink:href=\"#DejaVuSans-63\" x=\"1032.181641\"/>\n      <use xlink:href=\"#DejaVuSans-79\" x=\"1087.162109\"/>\n      <use xlink:href=\"#DejaVuSans-20\" x=\"1146.341797\"/>\n      <use xlink:href=\"#DejaVuSans-28\" x=\"1178.128906\"/>\n      <use xlink:href=\"#DejaVuSans-45\" x=\"1217.142578\"/>\n      <use xlink:href=\"#DejaVuSans-6e\" x=\"1280.326172\"/>\n      <use xlink:href=\"#DejaVuSans-67\" x=\"1343.705078\"/>\n      <use xlink:href=\"#DejaVuSans-6c\" x=\"1407.181641\"/>\n      <use xlink:href=\"#DejaVuSans-69\" x=\"1434.964844\"/>\n      <use xlink:href=\"#DejaVuSans-73\" x=\"1462.748047\"/>\n      <use xlink:href=\"#DejaVuSans-68\" x=\"1514.847656\"/>\n      <use xlink:href=\"#DejaVuSans-20\" x=\"1578.226562\"/>\n      <use xlink:href=\"#DejaVuSans-4c\" x=\"1610.013672\"/>\n      <use xlink:href=\"#DejaVuSans-31\" x=\"1665.726562\"/>\n      <use xlink:href=\"#DejaVuSans-29\" x=\"1729.349609\"/>\n     </g>\n    </g>\n   </g>\n   <g id=\"line2d_25\">\n    <path d=\"M 394.215398 50.822984 \nL 73.182434 258.869027 \nL 355.080435 76.184474 \nL 300.821639 111.346993 \nL 254.445933 141.40086 \nL 69.560852 261.216 \nL 75.82517 257.156396 \n\" clip-path=\"url(#p0ed3800adf)\" style=\"fill: none; stroke-dasharray: 5.55,2.4; stroke-dashoffset: 0; stroke: #ffd700; stroke-opacity: 0.5; stroke-width: 1.5\"/>\n   </g>\n   <g id=\"patch_3\">\n    <path d=\"M 53.328125 273.312 \nL 53.328125 7.2 \n\" style=\"fill: none; stroke: #000000; stroke-width: 0.8; stroke-linejoin: miter; stroke-linecap: square\"/>\n   </g>\n   <g id=\"patch_4\">\n    <path d=\"M 410.448125 273.312 \nL 410.448125 7.2 \n\" style=\"fill: none; stroke: #000000; stroke-width: 0.8; stroke-linejoin: miter; stroke-linecap: square\"/>\n   </g>\n   <g id=\"patch_5\">\n    <path d=\"M 53.328125 273.312 \nL 410.448125 273.312 \n\" style=\"fill: none; stroke: #000000; stroke-width: 0.8; stroke-linejoin: miter; stroke-linecap: square\"/>\n   </g>\n   <g id=\"patch_6\">\n    <path d=\"M 53.328125 7.2 \nL 410.448125 7.2 \n\" style=\"fill: none; stroke: #000000; stroke-width: 0.8; stroke-linejoin: miter; stroke-linecap: square\"/>\n   </g>\n   <g id=\"text_15\">\n    <!-- ' -->\n    <g transform=\"translate(394.215398 19.296) scale(0.1 -0.1)\">\n     <defs>\n      <path id=\"DejaVuSans-27\" d=\"M 1147 4666 \nL 1147 2931 \nL 616 2931 \nL 616 4666 \nL 1147 4666 \nz\n\" transform=\"scale(0.015625)\"/>\n     </defs>\n     <use xlink:href=\"#DejaVuSans-27\"/>\n    </g>\n   </g>\n   <g id=\"text_16\">\n    <!-- - -->\n    <g transform=\"translate(355.080435 56.752827) scale(0.1 -0.1)\">\n     <defs>\n      <path id=\"DejaVuSans-2d\" d=\"M 313 2009 \nL 1997 2009 \nL 1997 1497 \nL 313 1497 \nL 313 2009 \nz\n\" transform=\"scale(0.015625)\"/>\n     </defs>\n     <use xlink:href=\"#DejaVuSans-2d\"/>\n    </g>\n   </g>\n   <g id=\"text_17\">\n    <!-- . -->\n    <g transform=\"translate(300.821639 176.885669) scale(0.1 -0.1)\">\n     <defs>\n      <path id=\"DejaVuSans-2e\" d=\"M 684 794 \nL 1344 794 \nL 1344 0 \nL 684 0 \nL 684 794 \nz\n\" transform=\"scale(0.015625)\"/>\n     </defs>\n     <use xlink:href=\"#DejaVuSans-2e\"/>\n    </g>\n   </g>\n   <g id=\"text_18\">\n    <!-- / -->\n    <g transform=\"translate(254.445933 145.018426) scale(0.1 -0.1)\">\n     <defs>\n      <path id=\"DejaVuSans-2f\" d=\"M 1625 4666 \nL 2156 4666 \nL 531 -594 \nL 0 -594 \nL 1625 4666 \nz\n\" transform=\"scale(0.015625)\"/>\n     </defs>\n     <use xlink:href=\"#DejaVuSans-2f\"/>\n    </g>\n   </g>\n   <g id=\"text_19\">\n    <!-- = -->\n    <g transform=\"translate(69.560852 255.11666) scale(0.1 -0.1)\">\n     <defs>\n      <path id=\"DejaVuSans-3d\" d=\"M 678 2906 \nL 4684 2906 \nL 4684 2381 \nL 678 2381 \nL 678 2906 \nz\nM 678 1631 \nL 4684 1631 \nL 4684 1100 \nL 678 1100 \nL 678 1631 \nz\n\" transform=\"scale(0.015625)\"/>\n     </defs>\n     <use xlink:href=\"#DejaVuSans-3d\"/>\n    </g>\n   </g>\n   <g id=\"text_20\">\n    <!-- ? -->\n    <g transform=\"translate(75.82517 257.893993) scale(0.1 -0.1)\">\n     <defs>\n      <path id=\"DejaVuSans-3f\" d=\"M 1222 794 \nL 1856 794 \nL 1856 0 \nL 1222 0 \nL 1222 794 \nz\nM 1838 1253 \nL 1241 1253 \nL 1241 1734 \nQ 1241 2050 1328 2253 \nQ 1416 2456 1697 2725 \nL 1978 3003 \nQ 2156 3169 2236 3316 \nQ 2316 3463 2316 3616 \nQ 2316 3894 2111 4066 \nQ 1906 4238 1569 4238 \nQ 1322 4238 1042 4128 \nQ 763 4019 459 3809 \nL 459 4397 \nQ 753 4575 1054 4662 \nQ 1356 4750 1678 4750 \nQ 2253 4750 2601 4447 \nQ 2950 4144 2950 3647 \nQ 2950 3409 2837 3195 \nQ 2725 2981 2444 2713 \nL 2169 2444 \nQ 2022 2297 1961 2214 \nQ 1900 2131 1875 2053 \nQ 1856 1988 1847 1894 \nQ 1838 1800 1838 1638 \nL 1838 1253 \nz\n\" transform=\"scale(0.015625)\"/>\n     </defs>\n     <use xlink:href=\"#DejaVuSans-3f\"/>\n    </g>\n   </g>\n   <g id=\"PathCollection_1\">\n    <defs>\n     <path id=\"C0_0_24c36d2ed6\" d=\"M 0 0.5 \nC 0.132602 0.5 0.25979 0.447317 0.353553 0.353553 \nC 0.447317 0.25979 0.5 0.132602 0.5 -0 \nC 0.5 -0.132602 0.447317 -0.25979 0.353553 -0.353553 \nC 0.25979 -0.447317 0.132602 -0.5 0 -0.5 \nC -0.132602 -0.5 -0.25979 -0.447317 -0.353553 -0.353553 \nC -0.447317 -0.25979 -0.5 -0.132602 -0.5 0 \nC -0.5 0.132602 -0.447317 0.25979 -0.353553 0.353553 \nC -0.25979 0.447317 -0.132602 0.5 0 0.5 \nz\n\"/>\n    </defs>\n    <g clip-path=\"url(#p0ed3800adf)\">\n     <use xlink:href=\"#C0_0_24c36d2ed6\" x=\"394.215398\" y=\"19.296\" style=\"fill: #404080; fill-opacity: 0.5; stroke: #404080; stroke-opacity: 0.5\"/>\n    </g>\n    <g clip-path=\"url(#p0ed3800adf)\">\n     <use xlink:href=\"#C0_0_24c36d2ed6\" x=\"73.182434\" y=\"246.033159\" style=\"fill: #593870; fill-opacity: 0.5; stroke: #593870; stroke-opacity: 0.5\"/>\n    </g>\n    <g clip-path=\"url(#p0ed3800adf)\">\n     <use xlink:href=\"#C0_0_24c36d2ed6\" x=\"355.080435\" y=\"56.752827\" style=\"fill: #4d3c78; fill-opacity: 0.5; stroke: #4d3c78; stroke-opacity: 0.5\"/>\n    </g>\n    <g clip-path=\"url(#p0ed3800adf)\">\n     <use xlink:href=\"#C0_0_24c36d2ed6\" x=\"300.821639\" y=\"176.885669\" style=\"fill: #a52040; fill-opacity: 0.5; stroke: #a52040; stroke-opacity: 0.5\"/>\n    </g>\n    <g clip-path=\"url(#p0ed3800adf)\">\n     <use xlink:href=\"#C0_0_24c36d2ed6\" x=\"254.445933\" y=\"145.018426\" style=\"fill: #663468; fill-opacity: 0.5; stroke: #663468; stroke-opacity: 0.5\"/>\n    </g>\n    <g clip-path=\"url(#p0ed3800adf)\">\n     <use xlink:href=\"#C0_0_24c36d2ed6\" x=\"69.560852\" y=\"255.11666\" style=\"fill: #60366c; fill-opacity: 0.5; stroke: #60366c; stroke-opacity: 0.5\"/>\n    </g>\n    <g clip-path=\"url(#p0ed3800adf)\">\n     <use xlink:href=\"#C0_0_24c36d2ed6\" x=\"75.82517\" y=\"257.893993\" style=\"fill: #673467; fill-opacity: 0.5; stroke: #673467; stroke-opacity: 0.5\"/>\n    </g>\n   </g>\n  </g>\n </g>\n <defs>\n  <clipPath id=\"p0ed3800adf\">\n   <rect x=\"53.328125\" y=\"7.2\" width=\"357.12\" height=\"266.112\"/>\n  </clipPath>\n </defs>\n</svg>\n",
      "text/plain": [
       "<Figure size 640x480 with 1 Axes>"
      ]
     },
     "metadata": {},
     "output_type": "display_data"
    }
   ],
   "source": [
    "# sum each Punct' TF-IDF value grouped by L1\n",
    "grouped = {l1: X[lang_index, :].sum(axis=0).tolist()[0] \n",
    "           for l1, lang_index in comb_df.groupby('label').groups.items()}\n",
    "\n",
    "# convert grouped dictionary into a df using the vect Punct as index\n",
    "grouped = pd.DataFrame(grouped, index=vect.get_feature_names_out())\n",
    "# drop Punct that are not present in both L1\n",
    "grouped = grouped.dropna()\n",
    "# drop Punct that have a frequency of 0 in one of the L1\n",
    "grouped = grouped[(grouped['ELL'] != 0) & (grouped['ENG'] != 0)]\n",
    "# drop Punct that do not contain at least 2 alphabetic characters\n",
    "# grouped = grouped[grouped.index.str.contains(r'[a-zA-Z]{2,}')]\n",
    "# add a column with the difference between the two L1\n",
    "grouped['diff'] = grouped.apply(lambda row: row[1] - row[0], axis=1)\n",
    "\n",
    "fig, ax = plt.subplots()\n",
    "cmap = mpl.colors.LinearSegmentedColormap.from_list('', ['#a52040', '#404080'])\n",
    "\n",
    "# prepare Punct that will be added in the plot (L1 representation Punct)\n",
    "annotations = grouped.loc[abs(grouped['diff']) > 10].reset_index()\n",
    "\n",
    "annotations.apply(lambda row: ax.text(row['ELL'], row['ENG'], row['index']), axis=1)\n",
    "ax.scatter(grouped['ELL'], grouped['ENG'], s=1, alpha=0.5, c=grouped['diff'], cmap=cmap, zorder=3)\n",
    "ax.set_xlabel('Punct usage frequency (Greek L1)')\n",
    "ax.set_ylabel('Punct usage frequency (English L1)')\n",
    "# ax.set_xlim(0, len(grouped))\n",
    "# ax.set_ylim(0, len(grouped))\n",
    "ax.grid(alpha=0.5, zorder=0)\n",
    "\n",
    "z = np.polyfit(grouped['ELL'], grouped['ENG'], 1)\n",
    "p = np.poly1d(z)\n",
    "plt.plot(grouped['ELL'], p(grouped['ELL']), '--', color='gold', zorder=2, alpha=0.5)\n",
    "\n",
    "plt.show()"
   ]
  }
 ],
 "metadata": {
  "kernelspec": {
   "display_name": "venv",
   "language": "python",
   "name": "python3"
  },
  "language_info": {
   "codemirror_mode": {
    "name": "ipython",
    "version": 3
   },
   "file_extension": ".py",
   "mimetype": "text/x-python",
   "name": "python",
   "nbconvert_exporter": "python",
   "pygments_lexer": "ipython3",
   "version": "3.9.12"
  },
  "orig_nbformat": 4,
  "vscode": {
   "interpreter": {
    "hash": "2e7e730b0addf86a973a4a28cf822ec2148c9b5df0949bdec448b2f92cd1b951"
   }
  }
 },
 "nbformat": 4,
 "nbformat_minor": 2
}
